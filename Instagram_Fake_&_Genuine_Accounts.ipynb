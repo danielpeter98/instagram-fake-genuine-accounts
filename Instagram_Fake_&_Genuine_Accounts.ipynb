{
  "nbformat": 4,
  "nbformat_minor": 0,
  "metadata": {
    "colab": {
      "name": "Instagram Fake & Genuine Accounts.ipynb",
      "provenance": [],
      "authorship_tag": "ABX9TyNOjWWn7tOAsrNz3wooO+ms",
      "include_colab_link": true
    },
    "kernelspec": {
      "name": "python3",
      "display_name": "Python 3"
    },
    "language_info": {
      "name": "python"
    },
    "accelerator": "GPU",
    "gpuClass": "standard"
  },
  "cells": [
    {
      "cell_type": "markdown",
      "metadata": {
        "id": "view-in-github",
        "colab_type": "text"
      },
      "source": [
        "<a href=\"https://colab.research.google.com/github/danielpeter98/instagram-fake-genuine-accounts/blob/main/Instagram_Fake_%26_Genuine_Accounts.ipynb\" target=\"_parent\"><img src=\"https://colab.research.google.com/assets/colab-badge.svg\" alt=\"Open In Colab\"/></a>"
      ]
    },
    {
      "cell_type": "code",
      "execution_count": null,
      "metadata": {
        "id": "mZG-YvX0zJVz"
      },
      "outputs": [],
      "source": [
        ""
      ]
    }
  ]
}